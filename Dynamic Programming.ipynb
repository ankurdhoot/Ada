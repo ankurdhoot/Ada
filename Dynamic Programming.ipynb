{
 "cells": [
  {
   "cell_type": "code",
   "execution_count": 1,
   "metadata": {},
   "outputs": [],
   "source": [
    "__author__ = \"Ankur Dhoot\""
   ]
  },
  {
   "cell_type": "markdown",
   "metadata": {},
   "source": [
    "## Dynamic Programming Notebook"
   ]
  },
  {
   "cell_type": "markdown",
   "metadata": {},
   "source": [
    "### Purpose"
   ]
  },
  {
   "cell_type": "markdown",
   "metadata": {},
   "source": [
    "This notebook will introduce dynamic programming. "
   ]
  },
  {
   "cell_type": "markdown",
   "metadata": {},
   "source": [
    "### Set-Up"
   ]
  },
  {
   "cell_type": "code",
   "execution_count": 27,
   "metadata": {},
   "outputs": [],
   "source": [
    "import matplotlib.pyplot as plt\n",
    "import numpy as np\n",
    "import random\n",
    "import time\n",
    "import math"
   ]
  },
  {
   "cell_type": "markdown",
   "metadata": {},
   "source": [
    "### Data Generation"
   ]
  },
  {
   "cell_type": "code",
   "execution_count": 28,
   "metadata": {},
   "outputs": [],
   "source": [
    "def generate_random_sample(n):\n",
    "    # Generate a random list of n numbers\n",
    "    return random.choices(range(-15, 15), k=n)"
   ]
  },
  {
   "cell_type": "code",
   "execution_count": 29,
   "metadata": {},
   "outputs": [
    {
     "data": {
      "text/plain": [
       "[-6, -8, -12, 0, -11, -6, 13, -5, 10, -8]"
      ]
     },
     "execution_count": 29,
     "metadata": {},
     "output_type": "execute_result"
    }
   ],
   "source": [
    "generate_random_sample(10)"
   ]
  },
  {
   "cell_type": "code",
   "execution_count": 30,
   "metadata": {},
   "outputs": [
    {
     "data": {
      "text/plain": [
       "[-9, 1, -4, 12, 1, -3, -1, -13, -12, -7, -5, 12, 2, 7, 2, 3, 10, 7, 6, -9]"
      ]
     },
     "execution_count": 30,
     "metadata": {},
     "output_type": "execute_result"
    }
   ],
   "source": [
    "generate_random_sample(20)"
   ]
  },
  {
   "cell_type": "markdown",
   "metadata": {},
   "source": [
    "### Maximum Subarray Problem\n",
    "\n",
    "https://en.wikipedia.org/wiki/Maximum_subarray_problem"
   ]
  },
  {
   "cell_type": "markdown",
   "metadata": {},
   "source": [
    "#### Brute Force"
   ]
  },
  {
   "cell_type": "code",
   "execution_count": 31,
   "metadata": {},
   "outputs": [],
   "source": [
    "def brute_force(array):\n",
    "    n = len(array)\n",
    "    # Track what the maximum subarray sum seen so far is.\n",
    "    max_sum = -math.inf\n",
    "    # Compute the sum between array[i..j] for all (i, j) pairs.\n",
    "    for i in range(n):\n",
    "        for j in range(i, n + 1):\n",
    "            subarray_sum = sum(array[i:j])\n",
    "            if subarray_sum > max_sum:\n",
    "                # We found a better subarray.\n",
    "                max_sum = subarray_sum\n",
    "    return max_sum\n",
    "            "
   ]
  },
  {
   "cell_type": "code",
   "execution_count": 32,
   "metadata": {},
   "outputs": [],
   "source": [
    "assert brute_force([0]) == 0\n",
    "assert brute_force([-1]) == 0\n",
    "assert brute_force([1, 2, 3]) == 6\n",
    "assert brute_force([1, -1, 2]) == 2\n",
    "assert brute_force([2, -1, 2, -1, 2]) == 4\n",
    "assert brute_force([-2, 1, -3, 4, -1, 2, 1, -5, 4]) == 6"
   ]
  },
  {
   "cell_type": "markdown",
   "metadata": {},
   "source": [
    "#### Dynamic Programming"
   ]
  },
  {
   "cell_type": "markdown",
   "metadata": {},
   "source": [
    "Let dp[j] denote the maximum sum over all i of array[i...j]. That is, dp[j] is the maximum subarray sum ending at index j.\n",
    "\n",
    "Then dp[j+1] = max(0, array[j], dp[j] + array[j+1]).\n",
    "\n",
    "In words, this says that the maximum subarray sum ending at index j is either the empty array (with value 0),\n",
    "just the jth element by itself, or the jth element added to the maximum subarray sum ending at index j - 1.\n",
    "\n",
    "The maximum subarray sum is then the largest value in the dp array (since the max subarray sum must end at *some* index)."
   ]
  },
  {
   "cell_type": "code",
   "execution_count": 56,
   "metadata": {},
   "outputs": [],
   "source": [
    "def dynamic_programming(array):\n",
    "    n = len(array)\n",
    "    dp = [0] * n\n",
    "    for j in range(n):\n",
    "        dp[j] = max(0, array[j], array[j] + dp[j-1])\n",
    "    return max(dp)"
   ]
  },
  {
   "cell_type": "code",
   "execution_count": 57,
   "metadata": {},
   "outputs": [],
   "source": [
    "assert dynamic_programming([0]) == 0\n",
    "assert dynamic_programming([-1]) == 0\n",
    "assert dynamic_programming([1, 2, 3]) == 6\n",
    "assert dynamic_programming([1, -1, 2]) == 2\n",
    "assert dynamic_programming([2, -1, 2, -1, 2]) == 4\n",
    "assert dynamic_programming([-2, 1, -3, 4, -1, 2, 1, -5, 4]) == 6"
   ]
  },
  {
   "cell_type": "markdown",
   "metadata": {},
   "source": [
    "### Runtime Comparison\n",
    "\n",
    "Let's generate some test data and see how these algorithms compare."
   ]
  },
  {
   "cell_type": "code",
   "execution_count": 45,
   "metadata": {},
   "outputs": [],
   "source": [
    "# Average over num_runs.\n",
    "num_runs = 100\n",
    "# list size\n",
    "size = 200"
   ]
  },
  {
   "cell_type": "markdown",
   "metadata": {},
   "source": [
    "#### Brute Force"
   ]
  },
  {
   "cell_type": "code",
   "execution_count": 46,
   "metadata": {},
   "outputs": [
    {
     "name": "stdout",
     "output_type": "stream",
     "text": [
      "Selection Sort Average Time 0.020248s\n"
     ]
    }
   ],
   "source": [
    "brute_force_start_time = time.time()\n",
    "for run in range(num_runs):\n",
    "    # Generate the list of random numbers\n",
    "    array = generate_random_sample(size)\n",
    "    brute_force(array)\n",
    "brute_force_end_time = time.time()\n",
    "\n",
    "avg_time = (brute_force_end_time - brute_force_start_time) / num_runs\n",
    "print('Brute Force Average Time %fs' % avg_time)"
   ]
  },
  {
   "cell_type": "markdown",
   "metadata": {},
   "source": [
    "#### Dynamic Programming"
   ]
  },
  {
   "cell_type": "code",
   "execution_count": 47,
   "metadata": {},
   "outputs": [
    {
     "name": "stdout",
     "output_type": "stream",
     "text": [
      "Selection Sort Average Time 0.000120s\n"
     ]
    }
   ],
   "source": [
    "dynamic_programming_start_time = time.time()\n",
    "for run in range(num_runs):\n",
    "    # Generate the list of random numbers\n",
    "    array = generate_random_sample(size)\n",
    "    dynamic_programming(array)\n",
    "dynamic_programming_end_time = time.time()\n",
    "\n",
    "avg_time = (dynamic_programming_end_time - dynamic_programming_start_time) / num_runs\n",
    "print('Dynamic Programming Average Time %fs' % avg_time)"
   ]
  },
  {
   "cell_type": "markdown",
   "metadata": {},
   "source": [
    "####  Runtime Plots\n",
    "\n",
    "Let's look at how brute force and dynamic programming scale with array size."
   ]
  },
  {
   "cell_type": "code",
   "execution_count": 51,
   "metadata": {},
   "outputs": [],
   "source": [
    "def eval_algorithm(algorithm, num_runs=20, list_sizes=[1, 2, 5, 10, 100, 500, 1000]):\n",
    "    # Run the max subarray algorithm multiple times over different list sizes.\n",
    "    timings = []\n",
    "\n",
    "    for size in list_sizes:\n",
    "        total_time = 0\n",
    "        for run in range(num_runs):\n",
    "            # Create a random list.\n",
    "            array = generate_random_sample(size)\n",
    "            start_time = time.time()\n",
    "            algorithm(array)\n",
    "            end_time = time.time()\n",
    "            total_time += end_time - start_time\n",
    "\n",
    "        # Record how long finding the max subarray took (on average)\n",
    "        timings.append(total_time / num_runs)\n",
    "\n",
    "    plt.plot(list_sizes, timings)\n",
    "    plt.ylabel('RunTime')\n",
    "    plt.xlabel('Array Size')"
   ]
  },
  {
   "cell_type": "markdown",
   "metadata": {},
   "source": [
    "#### Brute Force"
   ]
  },
  {
   "cell_type": "code",
   "execution_count": 52,
   "metadata": {},
   "outputs": [
    {
     "data": {
      "image/png": "[encoded data removed]",
      "text/plain": [
       "<Figure size 432x288 with 1 Axes>"
      ]
     },
     "metadata": {
      "needs_background": "light"
     },
     "output_type": "display_data"
    }
   ],
   "source": [
    "eval_algorithm(brute_force)"
   ]
  },
  {
   "cell_type": "markdown",
   "metadata": {},
   "source": [
    "#### Dynamic Programming"
   ]
  },
  {
   "cell_type": "code",
   "execution_count": 53,
   "metadata": {},
   "outputs": [
    {
     "data": {
      "image/png": "[encoded data removed]",
      "text/plain": [
       "<Figure size 432x288 with 1 Axes>"
      ]
     },
     "metadata": {
      "needs_background": "light"
     },
     "output_type": "display_data"
    }
   ],
   "source": [
    "eval_algorithm(dynamic_programming)"
   ]
  },
  {
   "cell_type": "markdown",
   "metadata": {},
   "source": [
    "### Conclusion"
   ]
  },
  {
   "cell_type": "markdown",
   "metadata": {},
   "source": [
    "The brute force method is O($n^3$) whereas the dynamic programming method is O($n$)!"
   ]
  },
  {
   "cell_type": "markdown",
   "metadata": {},
   "source": [
    "### Application"
   ]
  },
  {
   "cell_type": "markdown",
   "metadata": {},
   "source": [
    "https://leetcode.com/problems/climbing-stairs/"
   ]
  },
  {
   "cell_type": "code",
   "execution_count": null,
   "metadata": {},
   "outputs": [],
   "source": []
  }
 ],
 "metadata": {
  "kernelspec": {
   "display_name": "Python 3",
   "language": "python",
   "name": "python3"
  },
  "language_info": {
   "codemirror_mode": {
    "name": "ipython",
    "version": 3
   },
   "file_extension": ".py",
   "mimetype": "text/x-python",
   "name": "python",
   "nbconvert_exporter": "python",
   "pygments_lexer": "ipython3",
   "version": "3.7.6"
  }
 },
 "nbformat": 4,
 "nbformat_minor": 4
}
