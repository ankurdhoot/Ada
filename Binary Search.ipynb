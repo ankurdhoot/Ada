{
 "cells": [
  {
   "cell_type": "code",
   "execution_count": 1,
   "metadata": {},
   "outputs": [],
   "source": [
    "__author__ = \"Ankur Dhoot\""
   ]
  },
  {
   "cell_type": "markdown",
   "metadata": {},
   "source": [
    "## Binary Search Notebook"
   ]
  },
  {
   "cell_type": "markdown",
   "metadata": {},
   "source": [
    "### Purpose\n",
    "\n",
    "This notebook will demonstrate the binary search algorithm."
   ]
  },
  {
   "cell_type": "markdown",
   "metadata": {},
   "source": [
    "### Set-Up"
   ]
  },
  {
   "cell_type": "code",
   "execution_count": 8,
   "metadata": {},
   "outputs": [],
   "source": [
    "import matplotlib.pyplot as plt\n",
    "import numpy as np\n",
    "import random\n",
    "import time\n"
   ]
  },
  {
   "cell_type": "markdown",
   "metadata": {},
   "source": [
    "### Data Generation"
   ]
  },
  {
   "cell_type": "code",
   "execution_count": 11,
   "metadata": {},
   "outputs": [],
   "source": [
    "def generate_random_sample(n):\n",
    "    # Generate a random list of n numbers\n",
    "    return random.sample(range(n), n)"
   ]
  },
  {
   "cell_type": "code",
   "execution_count": 12,
   "metadata": {},
   "outputs": [
    {
     "data": {
      "text/plain": [
       "[8, 4, 3, 7, 0, 6, 2, 1, 9, 5]"
      ]
     },
     "execution_count": 12,
     "metadata": {},
     "output_type": "execute_result"
    }
   ],
   "source": [
    "generate_random_sample(10)"
   ]
  },
  {
   "cell_type": "code",
   "execution_count": 13,
   "metadata": {},
   "outputs": [
    {
     "data": {
      "text/plain": [
       "[14, 15, 9, 12, 2, 13, 17, 11, 16, 7, 3, 1, 4, 6, 5, 8, 10, 0, 18, 19]"
      ]
     },
     "execution_count": 13,
     "metadata": {},
     "output_type": "execute_result"
    }
   ],
   "source": [
    "generate_random_sample(20)"
   ]
  },
  {
   "cell_type": "markdown",
   "metadata": {},
   "source": [
    "### Linear Scan Algorithm\n",
    "\n",
    "The linear scan algorithm just loops over the entire list until it find the target element. The nice thing about this algorithm is that it works for unsorted (and sorted!) lists."
   ]
  },
  {
   "cell_type": "code",
   "execution_count": 40,
   "metadata": {},
   "outputs": [],
   "source": [
    "def linear_scan(search_list, target_value):\n",
    "    # Returns the index of target_value in search_list if it exists. Else, returns -1.\n",
    "    for index, value in enumerate(search_list):\n",
    "        if value == target_value:\n",
    "            return index\n",
    "    # The target_value was not found\n",
    "    return -1"
   ]
  },
  {
   "cell_type": "code",
   "execution_count": 41,
   "metadata": {},
   "outputs": [],
   "source": [
    "assert linear_scan([1,3,5,8], 5) == 2\n",
    "assert linear_scan([1,3,5,8], 10) == -1"
   ]
  },
  {
   "cell_type": "markdown",
   "metadata": {},
   "source": [
    "### Binary Search Algorithm\n",
    "\n",
    "See https://en.wikipedia.org/wiki/Binary_search_algorithm."
   ]
  },
  {
   "cell_type": "code",
   "execution_count": 42,
   "metadata": {},
   "outputs": [],
   "source": [
    "def binary_search(search_list, target_value):\n",
    "    lo = 0\n",
    "    hi = len(search_list) - 1\n",
    "    while lo <= hi:\n",
    "        mid = (lo + hi) // 2\n",
    "        value = search_list[mid]\n",
    "        if value == target_value:\n",
    "            # We found it!\n",
    "            return mid\n",
    "        elif value < target_value:\n",
    "            # We no longer need to search the left half since the target is in the right half if it exists.\n",
    "            lo = mid + 1\n",
    "        else:\n",
    "            # The target is in the left half if it exists\n",
    "            hi = mid - 1\n",
    "    return -1"
   ]
  },
  {
   "cell_type": "code",
   "execution_count": 43,
   "metadata": {},
   "outputs": [],
   "source": [
    "assert binary_search([1,3,5,8], 5) == 2\n",
    "assert binary_search([1,3,5,8], 10) == -1"
   ]
  },
  {
   "cell_type": "markdown",
   "metadata": {},
   "source": [
    "### Runtime Comparison\n",
    "\n",
    "Let's generate some test data and see how these algorithms compare."
   ]
  },
  {
   "cell_type": "code",
   "execution_count": 37,
   "metadata": {},
   "outputs": [],
   "source": [
    "# Average over num_runs.\n",
    "num_runs = 10000\n",
    "# Using a list of size search_list_size\n",
    "search_list_size = 10000\n",
    "# Generate the list of random numbers\n",
    "search_list = generate_random_sample(search_list_size)"
   ]
  },
  {
   "cell_type": "markdown",
   "metadata": {},
   "source": [
    "#### Linear Scan"
   ]
  },
  {
   "cell_type": "code",
   "execution_count": 50,
   "metadata": {},
   "outputs": [
    {
     "name": "stdout",
     "output_type": "stream",
     "text": [
      "Linear Scan Average Time 0.000210s\n"
     ]
    }
   ],
   "source": [
    "linear_scan_start_time = time.time()\n",
    "for run in range(num_runs):\n",
    "    # Choose a random target value.\n",
    "    target = random.randint(0, search_list_size - 1)\n",
    "    target_index = linear_scan(search_list, target)\n",
    "    # Sanity check that the target was found.\n",
    "    assert target_index != -1, target\n",
    "    \n",
    "linear_scan_end_time = time.time()\n",
    "\n",
    "avg_linear_scan_time = (linear_scan_end_time - linear_scan_start_time) / num_runs\n",
    "print('Linear Scan Average Time %fs' % avg_time)"
   ]
  },
  {
   "cell_type": "markdown",
   "metadata": {},
   "source": [
    "#### Binary Search"
   ]
  },
  {
   "cell_type": "code",
   "execution_count": 51,
   "metadata": {},
   "outputs": [
    {
     "name": "stdout",
     "output_type": "stream",
     "text": [
      "Binary Search Average Time 0.000003s\n"
     ]
    }
   ],
   "source": [
    "# Binary search only works on sorted lists!\n",
    "search_list.sort()\n",
    "\n",
    "binary_search_start_time = time.time()\n",
    "for run in range(num_runs):\n",
    "    # Choose a random target value.\n",
    "    target = random.randint(0, search_list_size - 1)\n",
    "    target_index = binary_search(search_list, target)\n",
    "    # Sanity check that the target was found\n",
    "    assert target_index != -1\n",
    "    \n",
    "binary_search_end_time = time.time()\n",
    "\n",
    "avg_binary_search_time = (binary_search_end_time - binary_search_start_time) / num_runs\n",
    "print('Binary Search Average Time %fs' % avg_binary_search_time)"
   ]
  },
  {
   "cell_type": "markdown",
   "metadata": {},
   "source": [
    "#### Linear Scan Runtime Plot\n",
    "\n",
    "Let's look at how the linear scan algorithm runtime scales with the size of the list to be searched."
   ]
  },
  {
   "cell_type": "code",
   "execution_count": 57,
   "metadata": {},
   "outputs": [
    {
     "data": {
      "text/plain": [
       "Text(0.5, 0, 'Search List Size')"
      ]
     },
     "execution_count": 57,
     "metadata": {},
     "output_type": "execute_result"
    },
    {
     "data": {
      "image/png": "[encoded data removed]",
      "text/plain": [
       "<Figure size 432x288 with 1 Axes>"
      ]
     },
     "metadata": {
      "needs_background": "light"
     },
     "output_type": "display_data"
    }
   ],
   "source": [
    "num_runs = 1000\n",
    "search_list_sizes = [100, 1000, 10000, 100000]\n",
    "\n",
    "linear_scan_search_times = []\n",
    "\n",
    "for search_size in search_list_sizes:\n",
    "    # Create a random list of size search_size\n",
    "    search_list = generate_random_sample(search_size)\n",
    "    linear_scan_start_time = time.time()\n",
    "    for run in range(num_runs):\n",
    "        # Choose a random target value.\n",
    "        target = random.randint(0, search_size - 1)\n",
    "        target_index = binary_search(search_list, target)\n",
    "        # Sanity check that the target was found.\n",
    "        assert target_index != -1, target\n",
    "\n",
    "    linear_scan_end_time = time.time()\n",
    "    \n",
    "    # Record how long searches took on average on search_size lists.\n",
    "    linear_scan_search_times.append((linear_scan_end_time - linear_scan_start_time) / num_runs)\n",
    "    \n",
    "plt.plot(search_list_sizes, linear_scan_search_times)\n",
    "plt.ylabel('RunTime')\n",
    "plt.xlabel('Search List Size')\n"
   ]
  },
  {
   "cell_type": "markdown",
   "metadata": {},
   "source": [
    "#### Binary Search Runtime Plot"
   ]
  },
  {
   "cell_type": "markdown",
   "metadata": {},
   "source": [
    "num_runs = 10000\n",
    "search_list_sizes = [100, 1000, 10000, 100000, 1000000, 10000000]\n",
    "\n",
    "binary_search_search_times = []\n",
    "\n",
    "for search_size in search_list_sizes:\n",
    "    # Create a random list of size search_size\n",
    "    search_list = generate_random_sample(search_size)\n",
    "    # Binary Search requires a sorted list!\n",
    "    search_list.sort()\n",
    "    binary_search_start_time = time.time()\n",
    "    for run in range(num_runs):\n",
    "        # Choose a random target value.\n",
    "        target = random.randint(0, search_size - 1)\n",
    "        target_index = binary_search(search_list, target)\n",
    "        # Sanity check that the target was found.\n",
    "        assert target_index != -1, target\n",
    "\n",
    "    binary_search_end_time = time.time()\n",
    "    \n",
    "    # Record how long searches took on average on search_size lists.\n",
    "    binary_search_search_times.append((binary_search_end_time - binary_search_start_time) / num_runs)\n",
    "    \n",
    "plt.plot(search_list_sizes, binary_search_search_times)\n",
    "plt.ylabel('RunTime')\n",
    "plt.xlabel('Search List Size')"
   ]
  },
  {
   "cell_type": "markdown",
   "metadata": {},
   "source": [
    "#### Conclusion"
   ]
  },
  {
   "cell_type": "markdown",
   "metadata": {},
   "source": [
    "Looking at the runtime plots, we can see that the runtime of binary search grows *very* slowly as the size of the search list increases."
   ]
  },
  {
   "cell_type": "markdown",
   "metadata": {},
   "source": [
    "#### Applications"
   ]
  },
  {
   "cell_type": "markdown",
   "metadata": {},
   "source": [
    "https://leetcode.com/problems/sqrtx/"
   ]
  },
  {
   "cell_type": "markdown",
   "metadata": {},
   "source": [
    "#### Resources"
   ]
  },
  {
   "cell_type": "markdown",
   "metadata": {},
   "source": [
    "https://www.coursera.org/learn/algorithms-part1\n",
    "https://www.coursera.org/specializations/algorithms\n",
    "https://www.edx.org/xseries/mitx-computational-thinking-using-python\n",
    "https://mitpress.mit.edu/books/introduction-algorithms\n",
    "http://pythontutor.com/"
   ]
  }
 ],
 "metadata": {
  "kernelspec": {
   "display_name": "Python 3",
   "language": "python",
   "name": "python3"
  },
  "language_info": {
   "codemirror_mode": {
    "name": "ipython",
    "version": 3
   },
   "file_extension": ".py",
   "mimetype": "text/x-python",
   "name": "python",
   "nbconvert_exporter": "python",
   "pygments_lexer": "ipython3",
   "version": "3.7.6"
  }
 },
 "nbformat": 4,
 "nbformat_minor": 4
}
