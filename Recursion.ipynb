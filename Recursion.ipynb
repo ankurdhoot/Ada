{
 "cells": [
  {
   "cell_type": "code",
   "execution_count": 1,
   "metadata": {},
   "outputs": [],
   "source": [
    "__author__ = \"Ankur Dhoot\""
   ]
  },
  {
   "cell_type": "markdown",
   "metadata": {},
   "source": [
    "## Recursion Notebook"
   ]
  },
  {
   "cell_type": "markdown",
   "metadata": {},
   "source": [
    "### Purpose\n",
    "\n",
    "This notebook will demonstrate recursive problems."
   ]
  },
  {
   "cell_type": "markdown",
   "metadata": {},
   "source": [
    "### Set-Up"
   ]
  },
  {
   "cell_type": "code",
   "execution_count": 2,
   "metadata": {},
   "outputs": [],
   "source": [
    "import matplotlib.pyplot as plt\n",
    "import numpy as np\n",
    "import random\n",
    "import time\n"
   ]
  },
  {
   "cell_type": "markdown",
   "metadata": {},
   "source": [
    "##  Binary Search"
   ]
  },
  {
   "cell_type": "markdown",
   "metadata": {},
   "source": [
    "### Iterative (Remember me?)"
   ]
  },
  {
   "cell_type": "code",
   "execution_count": 5,
   "metadata": {},
   "outputs": [],
   "source": [
    "def binary_search(search_list, target_value):\n",
    "    lo = 0\n",
    "    hi = len(search_list) - 1\n",
    "    while lo <= hi:\n",
    "        mid = (lo + hi) // 2\n",
    "        value = search_list[mid]\n",
    "        if value == target_value:\n",
    "            # We found it!\n",
    "            return mid\n",
    "        elif value < target_value:\n",
    "            # We no longer need to search the left half since the target is in the right half if it exists.\n",
    "            lo = mid + 1\n",
    "        else:\n",
    "            # The target is in the left half if it exists\n",
    "            hi = mid - 1\n",
    "    return -1"
   ]
  },
  {
   "cell_type": "code",
   "execution_count": 6,
   "metadata": {},
   "outputs": [],
   "source": [
    "assert binary_search([1,3,5,8], 5) == 2\n",
    "assert binary_search([1,3,5,8], 10) == -1\n",
    "assert binary_search([1,3,5,6,8], 6) == 3\n",
    "assert binary_search([1,3,5,6,8], 1) == 0"
   ]
  },
  {
   "cell_type": "markdown",
   "metadata": {},
   "source": [
    "### Recursive"
   ]
  },
  {
   "cell_type": "code",
   "execution_count": 7,
   "metadata": {},
   "outputs": [],
   "source": [
    "def binary_search_recursive(search_list, target_value):\n",
    "    return search_recursive(search_list, target_value, 0, len(search_list) - 1)\n",
    "\n",
    "def search_recursive(search_list, target_value, lo, hi):\n",
    "    # Base Case\n",
    "    if lo > hi:\n",
    "        return -1\n",
    "    \n",
    "    mid = (lo + hi) // 2\n",
    "    value = search_list[mid]\n",
    "    \n",
    "    if value == target_value:\n",
    "        # We found it!\n",
    "        return mid\n",
    "    elif value < target_value:\n",
    "        # We no longer need to search the left half since the target is in the right half if it exists.\n",
    "        lo = mid + 1\n",
    "        return search_recursive(search_list, target_value, lo, hi)\n",
    "    else:\n",
    "        # The target is in the left half if it exists\n",
    "        hi = mid - 1\n",
    "        return search_recursive(search_list, target_value, lo, hi)\n",
    "        "
   ]
  },
  {
   "cell_type": "code",
   "execution_count": 8,
   "metadata": {},
   "outputs": [],
   "source": [
    "assert binary_search_recursive([1,3,5,8], 5) == 2\n",
    "assert binary_search_recursive([1,3,5,8], 10) == -1\n",
    "assert binary_search_recursive([1,3,5,6,8], 6) == 3\n",
    "assert binary_search_recursive([1,3,5,6,8], 1) == 0"
   ]
  },
  {
   "cell_type": "markdown",
   "metadata": {},
   "source": [
    "## Fibonacci Numbers\n",
    "\n",
    "https://en.wikipedia.org/wiki/Fibonacci_number"
   ]
  },
  {
   "cell_type": "markdown",
   "metadata": {},
   "source": [
    "$F_{n}$ = $F_{n-1}$ + $F_{n-2}$, $F_{0}$ = 0, $F_{1}$ = 1"
   ]
  },
  {
   "cell_type": "code",
   "execution_count": 10,
   "metadata": {},
   "outputs": [],
   "source": [
    "def fibonacci(n):\n",
    "    # Base Cases\n",
    "    if n == 0:\n",
    "        return 0\n",
    "    if n == 1:\n",
    "        return 1\n",
    "    return fibonacci(n-1) + fibonacci(n-2)"
   ]
  },
  {
   "cell_type": "code",
   "execution_count": 11,
   "metadata": {},
   "outputs": [],
   "source": [
    "assert fibonacci(0) == 0\n",
    "assert fibonacci(1) == 1\n",
    "assert fibonacci(2) == 1\n",
    "assert fibonacci(3) == 2\n",
    "assert fibonacci(4) == 3\n",
    "assert fibonacci(5) == 5\n",
    "assert fibonacci(12) == 144"
   ]
  },
  {
   "cell_type": "code",
   "execution_count": 12,
   "metadata": {},
   "outputs": [
    {
     "data": {
      "text/plain": [
       "0"
      ]
     },
     "execution_count": 12,
     "metadata": {},
     "output_type": "execute_result"
    }
   ],
   "source": [
    "fibonacci(0)"
   ]
  },
  {
   "cell_type": "code",
   "execution_count": 13,
   "metadata": {},
   "outputs": [
    {
     "data": {
      "text/plain": [
       "1"
      ]
     },
     "execution_count": 13,
     "metadata": {},
     "output_type": "execute_result"
    }
   ],
   "source": [
    "fibonacci(1)"
   ]
  },
  {
   "cell_type": "code",
   "execution_count": 22,
   "metadata": {},
   "outputs": [
    {
     "data": {
      "text/plain": [
       "39088169"
      ]
     },
     "execution_count": 22,
     "metadata": {},
     "output_type": "execute_result"
    }
   ],
   "source": [
    "fibonacci(38)"
   ]
  },
  {
   "cell_type": "markdown",
   "metadata": {},
   "source": [
    "Anybody see a problem with this implementation?\n",
    "\n",
    "Let's look at how the runtime scales."
   ]
  },
  {
   "cell_type": "code",
   "execution_count": 26,
   "metadata": {},
   "outputs": [],
   "source": [
    "num_runs = 25\n",
    "highest_fibonacci_to_compute = 30"
   ]
  },
  {
   "cell_type": "code",
   "execution_count": 27,
   "metadata": {},
   "outputs": [],
   "source": [
    "def eval_algorithm(algorithm, num_runs=25, highest_fibonacci_to_compute=40):\n",
    "    # Run the algorithm multiple times for each fibonacci number.\n",
    "    timings = []\n",
    "\n",
    "    for i in range(highest_fibonacci_to_compute):\n",
    "        start_time = time.time()\n",
    "        for run in range(num_runs):\n",
    "            # Compute the ith fibonacci number.\n",
    "            algorithm(i)\n",
    "        end_time = time.time()\n",
    "        total_time = end_time - start_time\n",
    "\n",
    "        # Record how long sorting took on average\n",
    "        timings.append(total_time / num_runs)\n",
    "\n",
    "    plt.plot(timings)\n",
    "    plt.ylabel('RunTime')\n",
    "    plt.xlabel('Fibonacci Number')"
   ]
  },
  {
   "cell_type": "code",
   "execution_count": 28,
   "metadata": {},
   "outputs": [
    {
     "data": {
      "image/png": "[encoded data removed]",
      "text/plain": [
       "<Figure size 432x288 with 1 Axes>"
      ]
     },
     "metadata": {
      "needs_background": "light"
     },
     "output_type": "display_data"
    }
   ],
   "source": [
    "eval_algorithm(fibonacci, num_runs=num_runs, highest_fibonacci_to_compute=highest_fibonacci_to_compute)"
   ]
  },
  {
   "attachments": {
    "image.png": {
     "image/png": "[encoded data removed]"
    }
   },
   "cell_type": "markdown",
   "metadata": {},
   "source": [
    "Yikes, that doesn't seem so efficient. We can do better.\n",
    "\n",
    "Notice how much repeated computation we do. For example, when calculating $F_{6}$, we call $F_{3}$ 3 times!\n",
    "\n",
    "![image.png](attachment:image.png)"
   ]
  },
  {
   "cell_type": "markdown",
   "metadata": {},
   "source": [
    "Let's avoid this repeated computation by saving the results.\n",
    "\n",
    "https://en.wikipedia.org/wiki/Memoization"
   ]
  },
  {
   "cell_type": "code",
   "execution_count": 29,
   "metadata": {},
   "outputs": [],
   "source": [
    "def fibonacci_fast(n):\n",
    "    # Initialize with the base cases.\n",
    "    memoized = {0 : 0, 1 : 1}\n",
    "    return fibonacci_memoized(n, memoized)\n",
    "    \n",
    "def fibonacci_memoized(n, memoized):\n",
    "    # Returns the nth fibonacci number\n",
    "    # memoized contains the results of previous computations\n",
    "    # After returning, memoized will contain the nth fibonnaci number\n",
    "    if n in memoized:\n",
    "        return memoized[n]\n",
    "    # Compute the nth fibonacci element\n",
    "    result = fibonacci_memoized(n-1, memoized) + fibonacci_memoized(n-2, memoized)\n",
    "    # Save it!\n",
    "    memoized[n] = result\n",
    "    # Return it.\n",
    "    return result\n",
    "    "
   ]
  },
  {
   "cell_type": "code",
   "execution_count": 30,
   "metadata": {},
   "outputs": [],
   "source": [
    "assert fibonacci_fast(0) == 0\n",
    "assert fibonacci_fast(1) == 1\n",
    "assert fibonacci_fast(2) == 1\n",
    "assert fibonacci_fast(3) == 2\n",
    "assert fibonacci_fast(4) == 3\n",
    "assert fibonacci_fast(5) == 5\n",
    "assert fibonacci_fast(12) == 144"
   ]
  },
  {
   "cell_type": "code",
   "execution_count": 32,
   "metadata": {},
   "outputs": [
    {
     "data": {
      "image/png": "[encoded data removed]",
      "text/plain": [
       "<Figure size 432x288 with 1 Axes>"
      ]
     },
     "metadata": {
      "needs_background": "light"
     },
     "output_type": "display_data"
    }
   ],
   "source": [
    "eval_algorithm(fibonacci_fast, num_runs=50, highest_fibonacci_to_compute=2000)"
   ]
  },
  {
   "cell_type": "markdown",
   "metadata": {},
   "source": [
    "## Conclusion"
   ]
  },
  {
   "cell_type": "markdown",
   "metadata": {},
   "source": [
    "Memoization can provide big time speedups!"
   ]
  },
  {
   "cell_type": "markdown",
   "metadata": {},
   "source": [
    "## Applications"
   ]
  },
  {
   "cell_type": "markdown",
   "metadata": {},
   "source": [
    "https://leetcode.com/problems/maximum-depth-of-binary-tree/\n",
    "https://leetcode.com/problems/balanced-binary-tree/"
   ]
  }
 ],
 "metadata": {
  "kernelspec": {
   "display_name": "Python 3",
   "language": "python",
   "name": "python3"
  },
  "language_info": {
   "codemirror_mode": {
    "name": "ipython",
    "version": 3
   },
   "file_extension": ".py",
   "mimetype": "text/x-python",
   "name": "python",
   "nbconvert_exporter": "python",
   "pygments_lexer": "ipython3",
   "version": "3.7.6"
  }
 },
 "nbformat": 4,
 "nbformat_minor": 4
}
