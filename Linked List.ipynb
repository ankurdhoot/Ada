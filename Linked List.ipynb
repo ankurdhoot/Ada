{
 "cells": [
  {
   "cell_type": "code",
   "execution_count": 1,
   "metadata": {},
   "outputs": [],
   "source": [
    "__author__ = \"Ankur Dhoot\""
   ]
  },
  {
   "cell_type": "markdown",
   "metadata": {},
   "source": [
    "## Linked List Notebook"
   ]
  },
  {
   "cell_type": "markdown",
   "metadata": {},
   "source": [
    "### Purpose\n",
    "\n",
    "This notebook will introduce Linked Lists."
   ]
  },
  {
   "cell_type": "markdown",
   "metadata": {},
   "source": [
    "### Linked Lists\n",
    "\n",
    "Adapted from https://realpython.com/linked-lists-python/"
   ]
  },
  {
   "cell_type": "code",
   "execution_count": 1,
   "metadata": {},
   "outputs": [],
   "source": [
    "class Node:\n",
    "    def __init__(self, data):\n",
    "        self.data = data\n",
    "        self.next = None\n",
    "\n",
    "    def __repr__(self):\n",
    "        return self.data"
   ]
  },
  {
   "cell_type": "code",
   "execution_count": 2,
   "metadata": {},
   "outputs": [],
   "source": [
    "class LinkedList:\n",
    "    def __init__(self):\n",
    "        self.head = None\n",
    "\n",
    "    def __repr__(self):\n",
    "        node = self.head\n",
    "        nodes = []\n",
    "        while node is not None:\n",
    "            nodes.append(node.data)\n",
    "            node = node.next\n",
    "        nodes.append(\"None\")\n",
    "        return \" -> \".join(nodes)\n",
    "    \n",
    "    def __iter__(self):\n",
    "        node = self.head\n",
    "        while node is not None:\n",
    "            yield node\n",
    "            node = node.next\n",
    "    \n",
    "    def add_first(self, node):\n",
    "        # Adds a node to the beginning of the linked list\n",
    "        node.next = self.head\n",
    "        self.head = node\n",
    "        \n",
    "    def add_last(self, node):\n",
    "        if self.head is None:\n",
    "            # The list is empty\n",
    "            self.head = node\n",
    "            return\n",
    "        \n",
    "        loop_node = self.head\n",
    "        current_node = loop_node\n",
    "        while loop_node is not None:\n",
    "            current_node = loop_node\n",
    "            loop_node = loop_node.next\n",
    "#         for current_node in self:\n",
    "#             # Iterate to the end\n",
    "#             pass\n",
    "\n",
    "        current_node.next = node\n",
    "        \n",
    "    \n",
    "    def remove_node(self, target_node_data):\n",
    "        if self.head is None:\n",
    "            raise Exception(\"List is empty\")\n",
    "\n",
    "        if self.head.data == target_node_data:\n",
    "            # Replace the head node with the next one\n",
    "            self.head = self.head.next\n",
    "            return\n",
    "\n",
    "        previous_node = self.head\n",
    "        for node in self:\n",
    "            if node.data == target_node_data:\n",
    "                previous_node.next = node.next\n",
    "                return\n",
    "            previous_node = node\n",
    "\n",
    "        raise Exception(\"Node with data '%s' not found\" % target_node_data)\n",
    "        \n",
    "    def reverseList(self):\n",
    "        current = self.head.next\n",
    "        prev = self.head\n",
    "        # Special case for head node\n",
    "        self.head.next = None\n",
    "        \n",
    "        while current:\n",
    "            nextNode = current.next\n",
    "            # Point the current node at the previous one\n",
    "            current.next = prev\n",
    "            # The previous one is now the current one\n",
    "            prev = current\n",
    "            # The current node is now the next one\n",
    "            current = nextNode\n",
    "        \n",
    "        # Reset the head\n",
    "        self.head = prev"
   ]
  },
  {
   "cell_type": "code",
   "execution_count": 4,
   "metadata": {},
   "outputs": [
    {
     "name": "stdout",
     "output_type": "stream",
     "text": [
      "None\n"
     ]
    }
   ],
   "source": [
    "llist = LinkedList()\n",
    "print(llist)"
   ]
  },
  {
   "cell_type": "code",
   "execution_count": 5,
   "metadata": {},
   "outputs": [
    {
     "name": "stdout",
     "output_type": "stream",
     "text": [
      "a -> None\n"
     ]
    }
   ],
   "source": [
    "node_a = Node(\"a\")\n",
    "llist.add_first(node_a)\n",
    "print(llist)"
   ]
  },
  {
   "cell_type": "code",
   "execution_count": 6,
   "metadata": {},
   "outputs": [
    {
     "name": "stdout",
     "output_type": "stream",
     "text": [
      "b -> a -> None\n"
     ]
    }
   ],
   "source": [
    "node_b = Node(\"b\")\n",
    "llist.add_first(node_b)\n",
    "print(llist)"
   ]
  },
  {
   "cell_type": "code",
   "execution_count": 7,
   "metadata": {},
   "outputs": [
    {
     "name": "stdout",
     "output_type": "stream",
     "text": [
      "b -> a -> c -> None\n"
     ]
    }
   ],
   "source": [
    "node_c = Node(\"c\")\n",
    "llist.add_last(node_c)\n",
    "print(llist)"
   ]
  },
  {
   "cell_type": "code",
   "execution_count": 8,
   "metadata": {},
   "outputs": [
    {
     "name": "stdout",
     "output_type": "stream",
     "text": [
      "b -> c -> None\n"
     ]
    }
   ],
   "source": [
    "llist.remove_node(\"a\")\n",
    "print(llist)"
   ]
  },
  {
   "cell_type": "markdown",
   "metadata": {},
   "source": [
    "### Applications"
   ]
  },
  {
   "cell_type": "markdown",
   "metadata": {},
   "source": [
    "https://leetcode.com/problems/delete-node-in-a-linked-list/\n",
    "\n",
    "https://leetcode.com/problems/reverse-linked-list/"
   ]
  },
  {
   "cell_type": "code",
   "execution_count": 71,
   "metadata": {},
   "outputs": [
    {
     "name": "stdout",
     "output_type": "stream",
     "text": [
      "a -> b -> c -> d -> None\n"
     ]
    }
   ],
   "source": [
    "# Create a linked list using these characters\n",
    "input_chars = [\"a\",\"b\",\"c\",\"d\"]\n",
    "\n",
    "linked_list = LinkedList()\n",
    "for char in input_chars:\n",
    "    node = Node(char)\n",
    "    linked_list.add_last(node)\n",
    "    \n",
    "print(linked_list)"
   ]
  },
  {
   "cell_type": "code",
   "execution_count": 72,
   "metadata": {},
   "outputs": [
    {
     "name": "stdout",
     "output_type": "stream",
     "text": [
      "d -> c -> b -> a -> None\n"
     ]
    }
   ],
   "source": [
    "linked_list.reverseList()\n",
    "print(linked_list)"
   ]
  },
  {
   "cell_type": "code",
   "execution_count": 16,
   "metadata": {},
   "outputs": [
    {
     "name": "stdout",
     "output_type": "stream",
     "text": [
      "b\n"
     ]
    }
   ],
   "source": [
    "node_a = Node(\"a\")\n",
    "\n",
    "def mutate(node):\n",
    "    node.data = \"b\"\n",
    "    \n",
    "mutate(node_a)\n",
    "print(node_a)"
   ]
  },
  {
   "cell_type": "code",
   "execution_count": 20,
   "metadata": {},
   "outputs": [
    {
     "name": "stdout",
     "output_type": "stream",
     "text": [
      "a\n",
      "0x2059b75f5c8\n",
      "0x2059b75f5c8\n",
      "0x2059b758848\n",
      "a\n",
      "0x2059b75f5c8\n"
     ]
    }
   ],
   "source": [
    "node_a = Node(\"a\")\n",
    "print(node_a)\n",
    "print(hex(id(node_a)))\n",
    "\n",
    "def does_not_mutate(node):\n",
    "    print(hex(id(node)))\n",
    "    node = Node(\"b\")\n",
    "    print(hex(id(node)))\n",
    "    \n",
    "does_not_mutate(node_a)\n",
    "print(node_a)\n",
    "print(hex(id(node_a)))"
   ]
  },
  {
   "cell_type": "code",
   "execution_count": null,
   "metadata": {},
   "outputs": [],
   "source": []
  }
 ],
 "metadata": {
  "kernelspec": {
   "display_name": "Python 3",
   "language": "python",
   "name": "python3"
  },
  "language_info": {
   "codemirror_mode": {
    "name": "ipython",
    "version": 3
   },
   "file_extension": ".py",
   "mimetype": "text/x-python",
   "name": "python",
   "nbconvert_exporter": "python",
   "pygments_lexer": "ipython3",
   "version": "3.7.6"
  }
 },
 "nbformat": 4,
 "nbformat_minor": 4
}
