{
 "cells": [
  {
   "cell_type": "code",
   "execution_count": null,
   "metadata": {},
   "outputs": [],
   "source": [
    "__author__ = \"Ankur Dhoot\""
   ]
  },
  {
   "cell_type": "markdown",
   "metadata": {},
   "source": [
    "## Sorting (and Recursion) Notebook"
   ]
  },
  {
   "cell_type": "markdown",
   "metadata": {},
   "source": [
    "### Purpose\n",
    "\n",
    "This notebook will demonstrate the binary search algorithm."
   ]
  },
  {
   "cell_type": "markdown",
   "metadata": {},
   "source": [
    "### Set-Up"
   ]
  },
  {
   "cell_type": "code",
   "execution_count": 2,
   "metadata": {},
   "outputs": [],
   "source": [
    "import matplotlib.pyplot as plt\n",
    "import numpy as np\n",
    "import random\n",
    "import time\n"
   ]
  },
  {
   "cell_type": "markdown",
   "metadata": {},
   "source": [
    "### Data Generation"
   ]
  },
  {
   "cell_type": "code",
   "execution_count": 3,
   "metadata": {},
   "outputs": [],
   "source": [
    "def generate_random_sample(n):\n",
    "    # Generate a random list of n numbers\n",
    "    return random.sample(range(n), n)"
   ]
  },
  {
   "cell_type": "code",
   "execution_count": 4,
   "metadata": {},
   "outputs": [
    {
     "data": {
      "text/plain": [
       "[0, 8, 6, 5, 7, 3, 4, 2, 9, 1]"
      ]
     },
     "execution_count": 4,
     "metadata": {},
     "output_type": "execute_result"
    }
   ],
   "source": [
    "generate_random_sample(10)"
   ]
  },
  {
   "cell_type": "code",
   "execution_count": 5,
   "metadata": {},
   "outputs": [
    {
     "data": {
      "text/plain": [
       "[9, 19, 4, 2, 8, 5, 13, 17, 11, 12, 14, 10, 16, 1, 15, 7, 18, 3, 0, 6]"
      ]
     },
     "execution_count": 5,
     "metadata": {},
     "output_type": "execute_result"
    }
   ],
   "source": [
    "generate_random_sample(20)"
   ]
  },
  {
   "cell_type": "markdown",
   "metadata": {},
   "source": [
    "### Selection Sort\n",
    "\n",
    "https://en.wikipedia.org/wiki/Selection_sort"
   ]
  },
  {
   "cell_type": "code",
   "execution_count": 6,
   "metadata": {},
   "outputs": [],
   "source": [
    "def selection_sort(list_to_sort):\n",
    "    n = len(list_to_sort)\n",
    "    \n",
    "    # This tracks the index of the smallest element from list_to_sort[i...n]\n",
    "    minIndex = 0\n",
    "    \n",
    "    # This algorithm maintains the invariant that list_to_sort[0...i] is sorted\n",
    "    for i in range(n):\n",
    "        minIndex = i\n",
    "        \n",
    "        # Now, find the smallest value in list_to_sort[i...n]\n",
    "        for j in range(i + 1, n):\n",
    "            if list_to_sort[j] < list_to_sort[minIndex]:\n",
    "                minIndex = j\n",
    "        \n",
    "        # Swap that value into list_to_sort[i]\n",
    "        temp = list_to_sort[i]\n",
    "        list_to_sort[i] = list_to_sort[minIndex]\n",
    "        list_to_sort[minIndex] = temp\n"
   ]
  },
  {
   "cell_type": "code",
   "execution_count": 8,
   "metadata": {},
   "outputs": [],
   "source": [
    "test_1 = [1,2,3,4]\n",
    "selection_sort(test_1)\n",
    "assert test_1 == [1,2,3,4]"
   ]
  },
  {
   "cell_type": "code",
   "execution_count": 9,
   "metadata": {},
   "outputs": [],
   "source": [
    "test_2 = []\n",
    "selection_sort(test_2)\n",
    "assert test_2 == []"
   ]
  },
  {
   "cell_type": "code",
   "execution_count": 10,
   "metadata": {},
   "outputs": [],
   "source": [
    "test_3 = [4,3,2,1]\n",
    "selection_sort(test_3)\n",
    "assert test_3 == [1,2,3,4]"
   ]
  },
  {
   "cell_type": "code",
   "execution_count": 12,
   "metadata": {},
   "outputs": [],
   "source": [
    "test_4 = [1,5,3,8]\n",
    "selection_sort(test_4)\n",
    "assert test_4 == [1,3,5,8]"
   ]
  },
  {
   "cell_type": "markdown",
   "metadata": {},
   "source": [
    "### Merge Sort\n",
    "\n",
    "https://en.wikipedia.org/wiki/Merge_sort"
   ]
  },
  {
   "cell_type": "code",
   "execution_count": 79,
   "metadata": {},
   "outputs": [],
   "source": [
    "# Implementation taken from Sedgewick and Wayne, Algorithms\n",
    "\n",
    "def merge_sort(list_to_sort):\n",
    "    # Allocate auxiliary space just once\n",
    "    aux = [0] * len(list_to_sort)\n",
    "    sort(list_to_sort, aux, 0, len(list_to_sort) - 1)\n",
    "\n",
    "def sort(list_to_sort, aux, lo, hi):\n",
    "    # list_to_sort - the list to be sorted\n",
    "    # aux - the auxiliary array that helps us with merge operations\n",
    "    # lo, hi - sort the array between [lo...hi]\n",
    "    \n",
    "    # Base Case\n",
    "    if hi <= lo:\n",
    "        return\n",
    "    mid = (lo + hi) // 2\n",
    "    \n",
    "    # Sort the left side\n",
    "    sort(list_to_sort, aux, lo, mid)\n",
    "    # Sort the right side\n",
    "    sort(list_to_sort, aux, mid + 1, hi)\n",
    "    # Merge the results\n",
    "    merge(list_to_sort, aux, lo, mid, hi)\n",
    "    \n",
    "            \n",
    "    "
   ]
  },
  {
   "cell_type": "code",
   "execution_count": 80,
   "metadata": {},
   "outputs": [],
   "source": [
    "def merge(a, aux, lo, mid, hi):\n",
    "    # Merge a[lo..mid] with a[mid + 1..hi]\n",
    "    # Requires that a[lo..mid] and a[mid_1..hi] be sorted\n",
    "    \n",
    "    # The index into the next element to be drawn from a[lo...mid]\n",
    "    i = lo\n",
    "    # The index into the next element to be drawn from a[mid+1...hi]\n",
    "    j = mid + 1\n",
    "    \n",
    "    # Copy a[lo...hi] to aux[lo..hi]\n",
    "    for k in range(lo, hi+1):\n",
    "        aux[k] = a[k]\n",
    "    \n",
    "    # Merge back into a[lo..hi]\n",
    "    for k in range(lo, hi+1):\n",
    "        if i > mid:\n",
    "            # We've exhausted the left hand side. Take from the right.\n",
    "            a[k] = aux[j]\n",
    "            j = j + 1\n",
    "        elif j > hi:\n",
    "            # We've exhausted the right hand side. Take from the left.\n",
    "            a[k] = aux[i]\n",
    "            i = i + 1\n",
    "        elif aux[i] < aux[j]:\n",
    "            # Draw from left side.\n",
    "            a[k] = aux[i]\n",
    "            i = i + 1\n",
    "        else:\n",
    "            # Draw from right side\n",
    "            a[k] = aux[j]\n",
    "            j = j + 1"
   ]
  },
  {
   "cell_type": "code",
   "execution_count": 27,
   "metadata": {},
   "outputs": [],
   "source": [
    "test_1 = [1,2,3,4]\n",
    "merge_sort(test_1)\n",
    "assert test_1 == [1,2,3,4]"
   ]
  },
  {
   "cell_type": "code",
   "execution_count": 28,
   "metadata": {},
   "outputs": [],
   "source": [
    "test_2 = []\n",
    "selection_sort(test_2)\n",
    "assert test_2 == []"
   ]
  },
  {
   "cell_type": "code",
   "execution_count": 30,
   "metadata": {},
   "outputs": [
    {
     "name": "stdout",
     "output_type": "stream",
     "text": [
      "[1, 2, 3, 4]\n"
     ]
    }
   ],
   "source": [
    "test_3 = [4,3,2,1]\n",
    "selection_sort(test_3)\n",
    "assert test_3 == [1,2,3,4]"
   ]
  },
  {
   "cell_type": "code",
   "execution_count": 31,
   "metadata": {},
   "outputs": [],
   "source": [
    "test_4 = [1,5,3,8]\n",
    "selection_sort(test_4)\n",
    "assert test_4 == [1,3,5,8]"
   ]
  },
  {
   "cell_type": "markdown",
   "metadata": {},
   "source": [
    "### Runtime Comparison\n",
    "\n",
    "Let's generate some test data and see how these algorithms compare."
   ]
  },
  {
   "cell_type": "code",
   "execution_count": 38,
   "metadata": {},
   "outputs": [],
   "source": [
    "# Average over num_runs.\n",
    "num_runs = 1000\n",
    "# list size\n",
    "size = 1000"
   ]
  },
  {
   "cell_type": "markdown",
   "metadata": {},
   "source": [
    "#### Selection Sort"
   ]
  },
  {
   "cell_type": "code",
   "execution_count": 39,
   "metadata": {},
   "outputs": [
    {
     "name": "stdout",
     "output_type": "stream",
     "text": [
      "Selection Sort Average Time 0.029449s\n"
     ]
    }
   ],
   "source": [
    "selection_sort_start_time = time.time()\n",
    "for run in range(num_runs):\n",
    "    # Generate the list of random numbers\n",
    "    list_to_sort = generate_random_sample(size)\n",
    "    selection_sort(list_to_sort)\n",
    "    \n",
    "selection_sort_end_time = time.time()\n",
    "\n",
    "avg_time = (selection_sort_end_time - selection_sort_start_time) / num_runs\n",
    "print('Selection Sort Average Time %fs' % avg_time)"
   ]
  },
  {
   "cell_type": "markdown",
   "metadata": {},
   "source": [
    "#### Merge Sort"
   ]
  },
  {
   "cell_type": "code",
   "execution_count": 42,
   "metadata": {},
   "outputs": [
    {
     "name": "stdout",
     "output_type": "stream",
     "text": [
      "Merge Sort Average Time 0.003472s\n"
     ]
    }
   ],
   "source": [
    "merge_sort_start_time = time.time()\n",
    "for run in range(num_runs):\n",
    "    # Generate the list of random numbers\n",
    "    list_to_sort = generate_random_sample(size)\n",
    "    merge_sort(list_to_sort)\n",
    "    \n",
    "merge_sort_end_time = time.time()\n",
    "\n",
    "avg_time = (merge_sort_end_time - merge_sort_start_time) / num_runs\n",
    "print('Merge Sort Average Time %fs' % avg_time)"
   ]
  },
  {
   "cell_type": "markdown",
   "metadata": {},
   "source": [
    "#### Linear Scan Runtime Plot\n",
    "\n",
    "Let's look at how the selection sort scales with the list size."
   ]
  },
  {
   "cell_type": "code",
   "execution_count": 75,
   "metadata": {},
   "outputs": [],
   "source": [
    "def eval_algorithm(algorithm, num_runs=100, list_sizes=[1, 100, 500, 1000, 2000, 3000, 4000]):\n",
    "    # Run the sorting algorithm multiple times over different list sizes.\n",
    "    sort_times = []\n",
    "\n",
    "    for size in list_sizes:\n",
    "        total_time = 0\n",
    "        for run in range(num_runs):\n",
    "            # Create a random list.\n",
    "            list_to_sort = generate_random_sample(size)\n",
    "            start_time = time.time()\n",
    "            algorithm(list_to_sort)\n",
    "            end_time = time.time()\n",
    "            total_time += end_time - start_time\n",
    "\n",
    "        # Record how long sorting took on average\n",
    "        sort_times.append(total_time / num_runs)\n",
    "\n",
    "    plt.plot(list_sizes, sort_times)\n",
    "    plt.ylabel('RunTime')\n",
    "    plt.xlabel('List Size')"
   ]
  },
  {
   "cell_type": "code",
   "execution_count": 76,
   "metadata": {},
   "outputs": [
    {
     "data": {
      "image/png": "[encoded data removed]",
      "text/plain": [
       "<Figure size 432x288 with 1 Axes>"
      ]
     },
     "metadata": {
      "needs_background": "light"
     },
     "output_type": "display_data"
    }
   ],
   "source": [
    "eval_algorithm(selection_sort)"
   ]
  },
  {
   "cell_type": "markdown",
   "metadata": {},
   "source": [
    "#### Merge Sort Runtime Plot\n",
    "\n",
    "Let's look at how the merge sort scales with the list size."
   ]
  },
  {
   "cell_type": "code",
   "execution_count": 77,
   "metadata": {},
   "outputs": [
    {
     "data": {
      "image/png": "[encoded data removed]",
      "text/plain": [
       "<Figure size 432x288 with 1 Axes>"
      ]
     },
     "metadata": {
      "needs_background": "light"
     },
     "output_type": "display_data"
    }
   ],
   "source": [
    "eval_algorithm(merge_sort, num_runs=100, list_sizes=[1, 100, 500, 1000, 2000, 3000, 4000])"
   ]
  },
  {
   "cell_type": "markdown",
   "metadata": {},
   "source": [
    "#### Conclusion"
   ]
  },
  {
   "cell_type": "markdown",
   "metadata": {},
   "source": [
    "Looking at the runtime plots, we can see that the runtime of merge sort grows *almost* linearly with the size of the input. The runtime of selection sort is quadratic."
   ]
  },
  {
   "cell_type": "markdown",
   "metadata": {},
   "source": [
    "#### Applications"
   ]
  },
  {
   "cell_type": "markdown",
   "metadata": {},
   "source": [
    "https://leetcode.com/problems/valid-anagram"
   ]
  },
  {
   "cell_type": "code",
   "execution_count": null,
   "metadata": {},
   "outputs": [],
   "source": []
  }
 ],
 "metadata": {
  "kernelspec": {
   "display_name": "Python 3",
   "language": "python",
   "name": "python3"
  },
  "language_info": {
   "codemirror_mode": {
    "name": "ipython",
    "version": 3
   },
   "file_extension": ".py",
   "mimetype": "text/x-python",
   "name": "python",
   "nbconvert_exporter": "python",
   "pygments_lexer": "ipython3",
   "version": "3.7.6"
  }
 },
 "nbformat": 4,
 "nbformat_minor": 4
}
